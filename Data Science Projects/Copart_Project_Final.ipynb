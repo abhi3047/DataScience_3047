{
 "cells": [
  {
   "cell_type": "markdown",
   "metadata": {},
   "source": [
    "## Copart Challenge\n",
    "### Team members  - Abhinandan Mohan Raj and Aashesh Vontivillu Nareshchand\n"
   ]
  },
  {
   "cell_type": "code",
   "execution_count": 1,
   "metadata": {},
   "outputs": [],
   "source": [
    "# Importing libraries\n",
    "# Importing the libraries\n",
    "import numpy as np\n",
    "import matplotlib.pyplot as plt\n",
    "import pandas as pd\n",
    "import seaborn as sns\n",
    "%matplotlib inline\n",
    "\n",
    "\n",
    "\n",
    "# Handle table-like data and matrices :\n",
    "import numpy as np\n",
    "import pandas as pd\n",
    "import math \n",
    "\n",
    "\n",
    "\n",
    "# Modelling Algorithms :\n",
    "\n",
    "# Classification\n",
    "from sklearn.tree import DecisionTreeClassifier\n",
    "from sklearn.linear_model import LogisticRegression\n",
    "from sklearn.neighbors import KNeighborsClassifier\n",
    "from sklearn.naive_bayes import GaussianNB\n",
    "from sklearn.svm import SVC, LinearSVC\n",
    "from sklearn.ensemble import RandomForestClassifier , GradientBoostingClassifier\n",
    "from sklearn.discriminant_analysis import LinearDiscriminantAnalysis , QuadraticDiscriminantAnalysis\n",
    "\n",
    "# Regression\n",
    "from sklearn.linear_model import LinearRegression,Ridge,Lasso,RidgeCV, ElasticNet\n",
    "from sklearn.ensemble import RandomForestRegressor,BaggingRegressor,GradientBoostingRegressor,AdaBoostRegressor \n",
    "from sklearn.svm import SVR\n",
    "from sklearn.neighbors import KNeighborsRegressor\n",
    "from sklearn.neural_network import MLPRegressor\n",
    "\n",
    "\n",
    "\n",
    "\n",
    "# Modelling Helpers :\n",
    "from sklearn.preprocessing import Imputer , Normalizer , scale\n",
    "from sklearn.model_selection import train_test_split\n",
    "from sklearn.feature_selection import RFECV\n",
    "from sklearn.model_selection import GridSearchCV , KFold , cross_val_score\n",
    "\n",
    "\n",
    "\n",
    "#preprocessing :\n",
    "from sklearn.preprocessing import MinMaxScaler , StandardScaler, Imputer, LabelEncoder\n",
    "\n",
    "\n",
    "\n",
    "#evaluation metrics :\n",
    "\n",
    "# Regression\n",
    "from sklearn.metrics import mean_squared_log_error,mean_squared_error, r2_score,mean_absolute_error \n",
    "\n",
    "# Classification\n",
    "from sklearn.metrics import accuracy_score,precision_score,recall_score,f1_score  \n",
    "\n",
    "\n",
    "\n",
    "# Visualisation\n",
    "import matplotlib as mpl\n",
    "import matplotlib.pyplot as plt\n",
    "import matplotlib.pylab as pylab\n",
    "import seaborn as sns\n",
    "\n",
    "\n",
    "\n",
    "# Configure visualisations\n",
    "%matplotlib inline\n",
    "mpl.style.use( 'ggplot' )\n",
    "plt.style.use('fivethirtyeight')\n",
    "sns.set(context=\"notebook\", palette=\"dark\", style = 'whitegrid' , color_codes=True)\n",
    "params = { \n",
    "    'axes.labelsize': \"large\",\n",
    "    'xtick.labelsize': 'x-large',\n",
    "    'legend.fontsize': 20,\n",
    "    'figure.dpi': 150,\n",
    "    'figure.figsize': [25, 7]\n",
    "}\n",
    "plt.rcParams.update(params)"
   ]
  },
  {
   "cell_type": "code",
   "execution_count": 2,
   "metadata": {},
   "outputs": [
    {
     "name": "stdout",
     "output_type": "stream",
     "text": [
      "<class 'pandas.core.frame.DataFrame'>\n",
      "RangeIndex: 3400 entries, 0 to 3399\n",
      "Data columns (total 11 columns):\n",
      "ID            3400 non-null int64\n",
      "Feature_1     3400 non-null float64\n",
      "Feature_2     3400 non-null float64\n",
      "Feature_3     3400 non-null int64\n",
      "Feature_4     3400 non-null int64\n",
      "Feature_5     3400 non-null int64\n",
      "Feature_6     3400 non-null int64\n",
      "Feature_7     3400 non-null int64\n",
      "Feature_8     3400 non-null int64\n",
      "Feature_9     3400 non-null int64\n",
      "Feature_10    3400 non-null int64\n",
      "dtypes: float64(2), int64(9)\n",
      "memory usage: 292.3 KB\n"
     ]
    }
   ],
   "source": [
    "#importing the dataset\n",
    "data_df=pd.read_csv('copart_trainset.csv')\n",
    "data_df.head(20)\n",
    "data_df.info()\n"
   ]
  },
  {
   "cell_type": "markdown",
   "metadata": {},
   "source": [
    "## Data Preprocessing\n"
   ]
  },
  {
   "cell_type": "code",
   "execution_count": 3,
   "metadata": {},
   "outputs": [
    {
     "data": {
      "text/plain": [
       "ID            0\n",
       "Feature_1     0\n",
       "Feature_2     0\n",
       "Feature_3     0\n",
       "Feature_4     0\n",
       "Feature_5     0\n",
       "Feature_6     0\n",
       "Feature_7     0\n",
       "Feature_8     0\n",
       "Feature_9     0\n",
       "Feature_10    0\n",
       "dtype: int64"
      ]
     },
     "execution_count": 3,
     "metadata": {},
     "output_type": "execute_result"
    }
   ],
   "source": [
    "data_df.isnull().sum()"
   ]
  },
  {
   "cell_type": "code",
   "execution_count": 4,
   "metadata": {},
   "outputs": [],
   "source": [
    "data_df['Feature_5'] = data_df['Feature_5'].astype(str)\n",
    "data_df['Feature_6'] = data_df['Feature_6'].astype(str)\n",
    "data_df['Feature_7'] = data_df['Feature_7'].astype(str)\n",
    "data_df['Feature_8'] = data_df['Feature_8'].astype(str)\n"
   ]
  },
  {
   "cell_type": "code",
   "execution_count": 5,
   "metadata": {},
   "outputs": [
    {
     "name": "stdout",
     "output_type": "stream",
     "text": [
      "<class 'pandas.core.frame.DataFrame'>\n",
      "RangeIndex: 3400 entries, 0 to 3399\n",
      "Data columns (total 11 columns):\n",
      "ID            3400 non-null int64\n",
      "Feature_1     3400 non-null float64\n",
      "Feature_2     3400 non-null float64\n",
      "Feature_3     3400 non-null int64\n",
      "Feature_4     3400 non-null int64\n",
      "Feature_5     3400 non-null object\n",
      "Feature_6     3400 non-null object\n",
      "Feature_7     3400 non-null object\n",
      "Feature_8     3400 non-null object\n",
      "Feature_9     3400 non-null int64\n",
      "Feature_10    3400 non-null int64\n",
      "dtypes: float64(2), int64(5), object(4)\n",
      "memory usage: 292.3+ KB\n"
     ]
    }
   ],
   "source": [
    "data_df.info()"
   ]
  },
  {
   "cell_type": "code",
   "execution_count": 6,
   "metadata": {},
   "outputs": [
    {
     "data": {
      "text/html": [
       "<div>\n",
       "<style scoped>\n",
       "    .dataframe tbody tr th:only-of-type {\n",
       "        vertical-align: middle;\n",
       "    }\n",
       "\n",
       "    .dataframe tbody tr th {\n",
       "        vertical-align: top;\n",
       "    }\n",
       "\n",
       "    .dataframe thead th {\n",
       "        text-align: right;\n",
       "    }\n",
       "</style>\n",
       "<table border=\"1\" class=\"dataframe\">\n",
       "  <thead>\n",
       "    <tr style=\"text-align: right;\">\n",
       "      <th></th>\n",
       "      <th>ID</th>\n",
       "      <th>Feature_1</th>\n",
       "      <th>Feature_2</th>\n",
       "      <th>Feature_3</th>\n",
       "      <th>Feature_4</th>\n",
       "      <th>Feature_9</th>\n",
       "      <th>Feature_10</th>\n",
       "    </tr>\n",
       "  </thead>\n",
       "  <tbody>\n",
       "    <tr>\n",
       "      <th>count</th>\n",
       "      <td>3400.000000</td>\n",
       "      <td>3400.000000</td>\n",
       "      <td>3400.000000</td>\n",
       "      <td>3.400000e+03</td>\n",
       "      <td>3400.000000</td>\n",
       "      <td>3400.000000</td>\n",
       "      <td>3400.000000</td>\n",
       "    </tr>\n",
       "    <tr>\n",
       "      <th>mean</th>\n",
       "      <td>2038.315588</td>\n",
       "      <td>7778.867789</td>\n",
       "      <td>9385.635912</td>\n",
       "      <td>8.853750e+04</td>\n",
       "      <td>1556.451471</td>\n",
       "      <td>6.443824</td>\n",
       "      <td>4227.301471</td>\n",
       "    </tr>\n",
       "    <tr>\n",
       "      <th>std</th>\n",
       "      <td>1171.303133</td>\n",
       "      <td>5618.523416</td>\n",
       "      <td>6774.128577</td>\n",
       "      <td>6.984592e+04</td>\n",
       "      <td>439.146095</td>\n",
       "      <td>4.333863</td>\n",
       "      <td>3700.992214</td>\n",
       "    </tr>\n",
       "    <tr>\n",
       "      <th>min</th>\n",
       "      <td>1.000000</td>\n",
       "      <td>1.190000</td>\n",
       "      <td>9.000000</td>\n",
       "      <td>5.000000e+00</td>\n",
       "      <td>698.000000</td>\n",
       "      <td>0.000000</td>\n",
       "      <td>125.000000</td>\n",
       "    </tr>\n",
       "    <tr>\n",
       "      <th>25%</th>\n",
       "      <td>1022.750000</td>\n",
       "      <td>4199.986000</td>\n",
       "      <td>5269.600000</td>\n",
       "      <td>2.395625e+04</td>\n",
       "      <td>1242.000000</td>\n",
       "      <td>2.000000</td>\n",
       "      <td>1800.000000</td>\n",
       "    </tr>\n",
       "    <tr>\n",
       "      <th>50%</th>\n",
       "      <td>2042.500000</td>\n",
       "      <td>6181.597800</td>\n",
       "      <td>7728.900000</td>\n",
       "      <td>8.105550e+04</td>\n",
       "      <td>1498.000000</td>\n",
       "      <td>7.000000</td>\n",
       "      <td>3050.000000</td>\n",
       "    </tr>\n",
       "    <tr>\n",
       "      <th>75%</th>\n",
       "      <td>3065.250000</td>\n",
       "      <td>9599.968000</td>\n",
       "      <td>11269.925000</td>\n",
       "      <td>1.341432e+05</td>\n",
       "      <td>1896.000000</td>\n",
       "      <td>10.000000</td>\n",
       "      <td>5400.000000</td>\n",
       "    </tr>\n",
       "    <tr>\n",
       "      <th>max</th>\n",
       "      <td>4023.000000</td>\n",
       "      <td>90756.300000</td>\n",
       "      <td>98334.600000</td>\n",
       "      <td>1.058105e+06</td>\n",
       "      <td>5462.000000</td>\n",
       "      <td>25.000000</td>\n",
       "      <td>51500.000000</td>\n",
       "    </tr>\n",
       "  </tbody>\n",
       "</table>\n",
       "</div>"
      ],
      "text/plain": [
       "                ID     Feature_1     Feature_2     Feature_3    Feature_4  \\\n",
       "count  3400.000000   3400.000000   3400.000000  3.400000e+03  3400.000000   \n",
       "mean   2038.315588   7778.867789   9385.635912  8.853750e+04  1556.451471   \n",
       "std    1171.303133   5618.523416   6774.128577  6.984592e+04   439.146095   \n",
       "min       1.000000      1.190000      9.000000  5.000000e+00   698.000000   \n",
       "25%    1022.750000   4199.986000   5269.600000  2.395625e+04  1242.000000   \n",
       "50%    2042.500000   6181.597800   7728.900000  8.105550e+04  1498.000000   \n",
       "75%    3065.250000   9599.968000  11269.925000  1.341432e+05  1896.000000   \n",
       "max    4023.000000  90756.300000  98334.600000  1.058105e+06  5462.000000   \n",
       "\n",
       "         Feature_9    Feature_10  \n",
       "count  3400.000000   3400.000000  \n",
       "mean      6.443824   4227.301471  \n",
       "std       4.333863   3700.992214  \n",
       "min       0.000000    125.000000  \n",
       "25%       2.000000   1800.000000  \n",
       "50%       7.000000   3050.000000  \n",
       "75%      10.000000   5400.000000  \n",
       "max      25.000000  51500.000000  "
      ]
     },
     "execution_count": 6,
     "metadata": {},
     "output_type": "execute_result"
    }
   ],
   "source": [
    "#Descriptive statistics for the dataset\n",
    "data_df.describe()"
   ]
  },
  {
   "cell_type": "code",
   "execution_count": 7,
   "metadata": {},
   "outputs": [
    {
     "data": {
      "text/html": [
       "<div>\n",
       "<style scoped>\n",
       "    .dataframe tbody tr th:only-of-type {\n",
       "        vertical-align: middle;\n",
       "    }\n",
       "\n",
       "    .dataframe tbody tr th {\n",
       "        vertical-align: top;\n",
       "    }\n",
       "\n",
       "    .dataframe thead th {\n",
       "        text-align: right;\n",
       "    }\n",
       "</style>\n",
       "<table border=\"1\" class=\"dataframe\">\n",
       "  <thead>\n",
       "    <tr style=\"text-align: right;\">\n",
       "      <th></th>\n",
       "      <th>Feature_1</th>\n",
       "      <th>Feature_2</th>\n",
       "      <th>Feature_3</th>\n",
       "      <th>Feature_4</th>\n",
       "      <th>Feature_5</th>\n",
       "      <th>Feature_6</th>\n",
       "      <th>Feature_7</th>\n",
       "      <th>Feature_8</th>\n",
       "      <th>Feature_9</th>\n",
       "      <th>Feature_10</th>\n",
       "    </tr>\n",
       "  </thead>\n",
       "  <tbody>\n",
       "    <tr>\n",
       "      <th>0</th>\n",
       "      <td>5200.062</td>\n",
       "      <td>7161.0</td>\n",
       "      <td>169744</td>\n",
       "      <td>999</td>\n",
       "      <td>17</td>\n",
       "      <td>25</td>\n",
       "      <td>26</td>\n",
       "      <td>6</td>\n",
       "      <td>11</td>\n",
       "      <td>1850</td>\n",
       "    </tr>\n",
       "    <tr>\n",
       "      <th>1</th>\n",
       "      <td>9520.000</td>\n",
       "      <td>5217.0</td>\n",
       "      <td>116888</td>\n",
       "      <td>999</td>\n",
       "      <td>17</td>\n",
       "      <td>2</td>\n",
       "      <td>0</td>\n",
       "      <td>6</td>\n",
       "      <td>8</td>\n",
       "      <td>4400</td>\n",
       "    </tr>\n",
       "    <tr>\n",
       "      <th>2</th>\n",
       "      <td>13685.000</td>\n",
       "      <td>6827.0</td>\n",
       "      <td>118415</td>\n",
       "      <td>999</td>\n",
       "      <td>14</td>\n",
       "      <td>21</td>\n",
       "      <td>134</td>\n",
       "      <td>6</td>\n",
       "      <td>9</td>\n",
       "      <td>4850</td>\n",
       "    </tr>\n",
       "    <tr>\n",
       "      <th>3</th>\n",
       "      <td>6426.000</td>\n",
       "      <td>2769.0</td>\n",
       "      <td>95160</td>\n",
       "      <td>999</td>\n",
       "      <td>17</td>\n",
       "      <td>24</td>\n",
       "      <td>76</td>\n",
       "      <td>6</td>\n",
       "      <td>8</td>\n",
       "      <td>3100</td>\n",
       "    </tr>\n",
       "    <tr>\n",
       "      <th>4</th>\n",
       "      <td>10353.000</td>\n",
       "      <td>10912.0</td>\n",
       "      <td>82558</td>\n",
       "      <td>1390</td>\n",
       "      <td>7</td>\n",
       "      <td>32</td>\n",
       "      <td>183</td>\n",
       "      <td>6</td>\n",
       "      <td>7</td>\n",
       "      <td>3400</td>\n",
       "    </tr>\n",
       "  </tbody>\n",
       "</table>\n",
       "</div>"
      ],
      "text/plain": [
       "   Feature_1  Feature_2  Feature_3  Feature_4 Feature_5 Feature_6 Feature_7  \\\n",
       "0   5200.062     7161.0     169744        999        17        25        26   \n",
       "1   9520.000     5217.0     116888        999        17         2         0   \n",
       "2  13685.000     6827.0     118415        999        14        21       134   \n",
       "3   6426.000     2769.0      95160        999        17        24        76   \n",
       "4  10353.000    10912.0      82558       1390         7        32       183   \n",
       "\n",
       "  Feature_8  Feature_9  Feature_10  \n",
       "0         6         11        1850  \n",
       "1         6          8        4400  \n",
       "2         6          9        4850  \n",
       "3         6          8        3100  \n",
       "4         6          7        3400  "
      ]
     },
     "execution_count": 7,
     "metadata": {},
     "output_type": "execute_result"
    }
   ],
   "source": [
    "#dropping 'ID' column as we have index\n",
    "data_df.drop(['ID'] , axis=1 , inplace=True)\n",
    "data_df.head()"
   ]
  },
  {
   "cell_type": "markdown",
   "metadata": {},
   "source": [
    "### Data Visualisation of features"
   ]
  },
  {
   "cell_type": "code",
   "execution_count": 8,
   "metadata": {},
   "outputs": [
    {
     "data": {
      "text/plain": [
       "<seaborn.axisgrid.FacetGrid at 0x27dda7408d0>"
      ]
     },
     "execution_count": 8,
     "metadata": {},
     "output_type": "execute_result"
    },
    {
     "data": {
      "image/png": "[encoded data removed]",
      "text/plain": [
       "<Figure size 1260x504 with 1 Axes>"
      ]
     },
     "metadata": {},
     "output_type": "display_data"
    }
   ],
   "source": [
    "sns.factorplot(data=data_df , kind='box' , size=7, aspect=2.5)"
   ]
  },
  {
   "cell_type": "markdown",
   "metadata": {},
   "source": [
    "### Distribution of Categorical variables"
   ]
  },
  {
   "cell_type": "code",
   "execution_count": 9,
   "metadata": {},
   "outputs": [
    {
     "data": {
      "text/plain": [
       "<seaborn.axisgrid.FacetGrid at 0x2ca5d93ec88>"
      ]
     },
     "execution_count": 9,
     "metadata": {},
     "output_type": "execute_result"
    },
    {
     "data": {
      "image/png": "[encoded data removed]",
      "text/plain": [
       "<Figure size 720x288 with 1 Axes>"
      ]
     },
     "metadata": {},
     "output_type": "display_data"
    }
   ],
   "source": [
    "###Feature 5 destribution\n",
    "sns.factorplot(x='Feature_5', data=data_df , kind='count',aspect=2.5 )"
   ]
  },
  {
   "cell_type": "code",
   "execution_count": 10,
   "metadata": {},
   "outputs": [
    {
     "data": {
      "text/plain": [
       "<seaborn.axisgrid.FacetGrid at 0x2ca5d825c50>"
      ]
     },
     "execution_count": 10,
     "metadata": {},
     "output_type": "execute_result"
    },
    {
     "data": {
      "image/png": "[encoded data removed]",
      "text/plain": [
       "<Figure size 720x288 with 1 Axes>"
      ]
     },
     "metadata": {},
     "output_type": "display_data"
    }
   ],
   "source": [
    "#Feature 6 Distribution\n",
    "sns.factorplot(x='Feature_6', data=data_df , kind='count',aspect=2.5 )"
   ]
  },
  {
   "cell_type": "code",
   "execution_count": 11,
   "metadata": {},
   "outputs": [
    {
     "data": {
      "text/plain": [
       "<seaborn.axisgrid.FacetGrid at 0x2ca5dff27b8>"
      ]
     },
     "execution_count": 11,
     "metadata": {},
     "output_type": "execute_result"
    },
    {
     "data": {
      "image/png": "[encoded data removed]",
      "text/plain": [
       "<Figure size 720x288 with 1 Axes>"
      ]
     },
     "metadata": {},
     "output_type": "display_data"
    }
   ],
   "source": [
    "#Feature 7 Distribution\n",
    "sns.factorplot(x='Feature_7', data=data_df , kind='count',aspect=2.5 )"
   ]
  },
  {
   "cell_type": "code",
   "execution_count": 12,
   "metadata": {},
   "outputs": [
    {
     "data": {
      "text/plain": [
       "<seaborn.axisgrid.FacetGrid at 0x2ca587a2358>"
      ]
     },
     "execution_count": 12,
     "metadata": {},
     "output_type": "execute_result"
    },
    {
     "data": {
      "image/png": "[encoded data removed]",
      "text/plain": [
       "<Figure size 720x288 with 1 Axes>"
      ]
     },
     "metadata": {},
     "output_type": "display_data"
    }
   ],
   "source": [
    "#Feaute 8 Distribution\n",
    "sns.factorplot(x='Feature_8', data=data_df , kind='count',aspect=2.5 )"
   ]
  },
  {
   "cell_type": "markdown",
   "metadata": {},
   "source": [
    "### Feature engineering"
   ]
  },
  {
   "cell_type": "code",
   "execution_count": 9,
   "metadata": {},
   "outputs": [
    {
     "data": {
      "text/plain": [
       "301"
      ]
     },
     "execution_count": 9,
     "metadata": {},
     "output_type": "execute_result"
    }
   ],
   "source": [
    "len(data_df[(data_df['Feature_9']==0)])"
   ]
  },
  {
   "cell_type": "code",
   "execution_count": 10,
   "metadata": {},
   "outputs": [],
   "source": [
    "#droppping zeroes in Feature_9\n",
    "data_df = data_df[(data_df[['Feature_9']] != 0).all(axis=1)]"
   ]
  },
  {
   "cell_type": "code",
   "execution_count": 11,
   "metadata": {},
   "outputs": [
    {
     "data": {
      "text/plain": [
       "0"
      ]
     },
     "execution_count": 11,
     "metadata": {},
     "output_type": "execute_result"
    }
   ],
   "source": [
    "#Removing the zeroes in 'Feature_9'\n",
    "len(data_df[(data_df['Feature_9']==0)])"
   ]
  },
  {
   "cell_type": "code",
   "execution_count": 12,
   "metadata": {},
   "outputs": [],
   "source": [
    "data_df_copy=data_df.copy()"
   ]
  },
  {
   "cell_type": "code",
   "execution_count": 13,
   "metadata": {},
   "outputs": [],
   "source": [
    "#reducing the low frequency categories by grouping to a common value '0'\n",
    "series_5 = data_df_copy['Feature_5'].value_counts()\n",
    "series_6 = data_df_copy['Feature_6'].value_counts()\n",
    "series_7 = data_df_copy['Feature_7'].value_counts()\n",
    "series_8 = data_df_copy['Feature_8'].value_counts()\n",
    "# mask = (series/series.sum() * 100).lt(1)\n",
    "\n",
    "mask_5 = (series_5/series_5.sum() * 100).lt(1)\n",
    "mask_6 = (series_6/series_6.sum() * 100).lt(1)\n",
    "mask_7 = (series_7/series_7.sum() * 100).lt(1)\n",
    "mask_8 = (series_8/series_8.sum() * 100).lt(1)\n",
    "\n",
    "data_df_copy['Feature_5'] = np.where(data_df_copy['Feature_5'].isin(series_5[mask_5].index),'0',data_df_copy['Feature_5'])\n",
    "data_df_copy['Feature_6'] = np.where(data_df_copy['Feature_6'].isin(series_6[mask_6].index),'0',data_df_copy['Feature_6'])\n",
    "data_df_copy['Feature_7'] = np.where(data_df_copy['Feature_7'].isin(series_7[mask_7].index),'0',data_df_copy['Feature_7'])\n",
    "data_df_copy['Feature_8'] = np.where(data_df_copy['Feature_8'].isin(series_8[mask_8].index),'0',data_df_copy['Feature_8'])\n",
    "\n"
   ]
  },
  {
   "cell_type": "code",
   "execution_count": 14,
   "metadata": {},
   "outputs": [
    {
     "data": {
      "text/plain": [
       "6    2075\n",
       "3    1003\n",
       "0      21\n",
       "Name: Feature_8, dtype: int64"
      ]
     },
     "execution_count": 14,
     "metadata": {},
     "output_type": "execute_result"
    }
   ],
   "source": [
    "data_df_copy['Feature_8'].value_counts()\n"
   ]
  },
  {
   "cell_type": "code",
   "execution_count": 19,
   "metadata": {},
   "outputs": [
    {
     "data": {
      "text/plain": [
       "<seaborn.axisgrid.FacetGrid at 0x2ca5e3dc048>"
      ]
     },
     "execution_count": 19,
     "metadata": {},
     "output_type": "execute_result"
    },
    {
     "data": {
      "image/png": "[encoded data removed]",
      "text/plain": [
       "<Figure size 720x288 with 1 Axes>"
      ]
     },
     "metadata": {},
     "output_type": "display_data"
    }
   ],
   "source": [
    "#Feature 7 Distribution after grouping the less frequent categorical variables\n",
    "sns.factorplot(x='Feature_7', data=data_df_copy , kind='count',aspect=2.5 )"
   ]
  },
  {
   "cell_type": "code",
   "execution_count": 15,
   "metadata": {},
   "outputs": [],
   "source": [
    "#Splitting into the train and test datasets\n",
    "y=data_df_copy.iloc[:, 9].values\n",
    "X=data_df_copy.iloc[:, 0:9].values\n",
    "\n",
    "\n",
    "X_train, X_test, y_train, y_test = train_test_split(X,y,test_size=0.2, random_state=66)\n",
    "\n"
   ]
  },
  {
   "cell_type": "code",
   "execution_count": 19,
   "metadata": {},
   "outputs": [
    {
     "data": {
      "text/plain": [
       "(2479, 9)"
      ]
     },
     "execution_count": 19,
     "metadata": {},
     "output_type": "execute_result"
    }
   ],
   "source": [
    "#Normalising the feature variables\n",
    "\n",
    "sc = StandardScaler()\n",
    "X_train = sc.fit_transform(X_train)\n",
    "X_test = sc.transform(X_test)\n",
    "X_train\n",
    "np.shape(X_train)"
   ]
  },
  {
   "cell_type": "code",
   "execution_count": 16,
   "metadata": {},
   "outputs": [
    {
     "ename": "Exception",
     "evalue": "Data must be 1-dimensional",
     "output_type": "error",
     "traceback": [
      "\u001b[1;31m---------------------------------------------------------------------------\u001b[0m",
      "\u001b[1;31mException\u001b[0m                                 Traceback (most recent call last)",
      "\u001b[1;32m<ipython-input-16-0100ed2a70ea>\u001b[0m in \u001b[0;36m<module>\u001b[1;34m()\u001b[0m\n\u001b[1;32m----> 1\u001b[1;33m \u001b[0mX_train\u001b[0m \u001b[1;33m=\u001b[0m \u001b[0mpd\u001b[0m\u001b[1;33m.\u001b[0m\u001b[0mget_dummies\u001b[0m\u001b[1;33m(\u001b[0m\u001b[0mX_train\u001b[0m\u001b[1;33m)\u001b[0m   \u001b[1;31m# gives (1451, 221)\u001b[0m\u001b[1;33m\u001b[0m\u001b[0m\n\u001b[0m\u001b[0;32m      2\u001b[0m \u001b[0mX_test\u001b[0m \u001b[1;33m=\u001b[0m \u001b[0mpd\u001b[0m\u001b[1;33m.\u001b[0m\u001b[0mget_dummies\u001b[0m\u001b[1;33m(\u001b[0m\u001b[0mX_test\u001b[0m\u001b[1;33m)\u001b[0m    \u001b[1;31m# gives (1459, 206)\u001b[0m\u001b[1;33m\u001b[0m\u001b[0m\n\u001b[0;32m      3\u001b[0m \u001b[0mfinal_train\u001b[0m\u001b[1;33m,\u001b[0m \u001b[0mfinal_test\u001b[0m \u001b[1;33m=\u001b[0m \u001b[0mtrain\u001b[0m\u001b[1;33m.\u001b[0m\u001b[0malign\u001b[0m\u001b[1;33m(\u001b[0m\u001b[0mtest\u001b[0m\u001b[1;33m,\u001b[0m \u001b[0mjoin\u001b[0m\u001b[1;33m=\u001b[0m\u001b[1;34m'inner'\u001b[0m\u001b[1;33m,\u001b[0m \u001b[0maxis\u001b[0m\u001b[1;33m=\u001b[0m\u001b[1;36m1\u001b[0m\u001b[1;33m)\u001b[0m  \u001b[1;31m# inner join\u001b[0m\u001b[1;33m\u001b[0m\u001b[0m\n",
      "\u001b[1;32m~\\Anaconda3\\lib\\site-packages\\pandas\\core\\reshape\\reshape.py\u001b[0m in \u001b[0;36mget_dummies\u001b[1;34m(data, prefix, prefix_sep, dummy_na, columns, sparse, drop_first, dtype)\u001b[0m\n\u001b[0;32m    885\u001b[0m                                  \u001b[0msparse\u001b[0m\u001b[1;33m=\u001b[0m\u001b[0msparse\u001b[0m\u001b[1;33m,\u001b[0m\u001b[1;33m\u001b[0m\u001b[0m\n\u001b[0;32m    886\u001b[0m                                  \u001b[0mdrop_first\u001b[0m\u001b[1;33m=\u001b[0m\u001b[0mdrop_first\u001b[0m\u001b[1;33m,\u001b[0m\u001b[1;33m\u001b[0m\u001b[0m\n\u001b[1;32m--> 887\u001b[1;33m                                  dtype=dtype)\n\u001b[0m\u001b[0;32m    888\u001b[0m     \u001b[1;32mreturn\u001b[0m \u001b[0mresult\u001b[0m\u001b[1;33m\u001b[0m\u001b[0m\n\u001b[0;32m    889\u001b[0m \u001b[1;33m\u001b[0m\u001b[0m\n",
      "\u001b[1;32m~\\Anaconda3\\lib\\site-packages\\pandas\\core\\reshape\\reshape.py\u001b[0m in \u001b[0;36m_get_dummies_1d\u001b[1;34m(data, prefix, prefix_sep, dummy_na, sparse, drop_first, dtype)\u001b[0m\n\u001b[0;32m    892\u001b[0m                     sparse=False, drop_first=False, dtype=None):\n\u001b[0;32m    893\u001b[0m     \u001b[1;31m# Series avoids inconsistent NaN handling\u001b[0m\u001b[1;33m\u001b[0m\u001b[1;33m\u001b[0m\u001b[0m\n\u001b[1;32m--> 894\u001b[1;33m     \u001b[0mcodes\u001b[0m\u001b[1;33m,\u001b[0m \u001b[0mlevels\u001b[0m \u001b[1;33m=\u001b[0m \u001b[0m_factorize_from_iterable\u001b[0m\u001b[1;33m(\u001b[0m\u001b[0mSeries\u001b[0m\u001b[1;33m(\u001b[0m\u001b[0mdata\u001b[0m\u001b[1;33m)\u001b[0m\u001b[1;33m)\u001b[0m\u001b[1;33m\u001b[0m\u001b[0m\n\u001b[0m\u001b[0;32m    895\u001b[0m \u001b[1;33m\u001b[0m\u001b[0m\n\u001b[0;32m    896\u001b[0m     \u001b[1;32mif\u001b[0m \u001b[0mdtype\u001b[0m \u001b[1;32mis\u001b[0m \u001b[1;32mNone\u001b[0m\u001b[1;33m:\u001b[0m\u001b[1;33m\u001b[0m\u001b[0m\n",
      "\u001b[1;32m~\\Anaconda3\\lib\\site-packages\\pandas\\core\\series.py\u001b[0m in \u001b[0;36m__init__\u001b[1;34m(self, data, index, dtype, name, copy, fastpath)\u001b[0m\n\u001b[0;32m    272\u001b[0m             \u001b[1;32melse\u001b[0m\u001b[1;33m:\u001b[0m\u001b[1;33m\u001b[0m\u001b[0m\n\u001b[0;32m    273\u001b[0m                 data = _sanitize_array(data, index, dtype, copy,\n\u001b[1;32m--> 274\u001b[1;33m                                        raise_cast_failure=True)\n\u001b[0m\u001b[0;32m    275\u001b[0m \u001b[1;33m\u001b[0m\u001b[0m\n\u001b[0;32m    276\u001b[0m                 \u001b[0mdata\u001b[0m \u001b[1;33m=\u001b[0m \u001b[0mSingleBlockManager\u001b[0m\u001b[1;33m(\u001b[0m\u001b[0mdata\u001b[0m\u001b[1;33m,\u001b[0m \u001b[0mindex\u001b[0m\u001b[1;33m,\u001b[0m \u001b[0mfastpath\u001b[0m\u001b[1;33m=\u001b[0m\u001b[1;32mTrue\u001b[0m\u001b[1;33m)\u001b[0m\u001b[1;33m\u001b[0m\u001b[0m\n",
      "\u001b[1;32m~\\Anaconda3\\lib\\site-packages\\pandas\\core\\series.py\u001b[0m in \u001b[0;36m_sanitize_array\u001b[1;34m(data, index, dtype, copy, raise_cast_failure)\u001b[0m\n\u001b[0;32m   4159\u001b[0m     \u001b[1;32melif\u001b[0m \u001b[0msubarr\u001b[0m\u001b[1;33m.\u001b[0m\u001b[0mndim\u001b[0m \u001b[1;33m>\u001b[0m \u001b[1;36m1\u001b[0m\u001b[1;33m:\u001b[0m\u001b[1;33m\u001b[0m\u001b[0m\n\u001b[0;32m   4160\u001b[0m         \u001b[1;32mif\u001b[0m \u001b[0misinstance\u001b[0m\u001b[1;33m(\u001b[0m\u001b[0mdata\u001b[0m\u001b[1;33m,\u001b[0m \u001b[0mnp\u001b[0m\u001b[1;33m.\u001b[0m\u001b[0mndarray\u001b[0m\u001b[1;33m)\u001b[0m\u001b[1;33m:\u001b[0m\u001b[1;33m\u001b[0m\u001b[0m\n\u001b[1;32m-> 4161\u001b[1;33m             \u001b[1;32mraise\u001b[0m \u001b[0mException\u001b[0m\u001b[1;33m(\u001b[0m\u001b[1;34m'Data must be 1-dimensional'\u001b[0m\u001b[1;33m)\u001b[0m\u001b[1;33m\u001b[0m\u001b[0m\n\u001b[0m\u001b[0;32m   4162\u001b[0m         \u001b[1;32melse\u001b[0m\u001b[1;33m:\u001b[0m\u001b[1;33m\u001b[0m\u001b[0m\n\u001b[0;32m   4163\u001b[0m             \u001b[0msubarr\u001b[0m \u001b[1;33m=\u001b[0m \u001b[0mcom\u001b[0m\u001b[1;33m.\u001b[0m\u001b[0m_asarray_tuplesafe\u001b[0m\u001b[1;33m(\u001b[0m\u001b[0mdata\u001b[0m\u001b[1;33m,\u001b[0m \u001b[0mdtype\u001b[0m\u001b[1;33m=\u001b[0m\u001b[0mdtype\u001b[0m\u001b[1;33m)\u001b[0m\u001b[1;33m\u001b[0m\u001b[0m\n",
      "\u001b[1;31mException\u001b[0m: Data must be 1-dimensional"
     ]
    }
   ],
   "source": [
    "X_train = pd.get_dummies(X_train)   # gives (1451, 221)  \n",
    "X_test = pd.get_dummies(X_test)    # gives (1459, 206)  \n",
    "final_train, final_test = train.align(test, join='inner', axis=1)  # inner join"
   ]
  },
  {
   "cell_type": "code",
   "execution_count": 22,
   "metadata": {},
   "outputs": [
    {
     "data": {
      "text/plain": [
       "(2479, 885)"
      ]
     },
     "execution_count": 22,
     "metadata": {},
     "output_type": "execute_result"
    }
   ],
   "source": [
    "# Encoding categorical data by one-hot encoder to dummy variables\n",
    "\n",
    "from sklearn.preprocessing import LabelEncoder, OneHotEncoder\n",
    "labelencoder = LabelEncoder()\n",
    "X_train[:, 4] = labelencoder.fit_transform(X_train[:, 4])\n",
    "onehotencoder = OneHotEncoder(categorical_features = [4])\n",
    "X_train = onehotencoder.fit_transform(X_train).toarray()\n",
    "\n",
    "X_train[:, 5] = labelencoder.fit_transform(X_train[:, 5])\n",
    "onehotencoder = OneHotEncoder(categorical_features = [5])\n",
    "X_train = onehotencoder.fit_transform(X_train).toarray()\n",
    "\n",
    "X_train[:, 6] = labelencoder.fit_transform(X_train[:, 6])\n",
    "onehotencoder = OneHotEncoder(categorical_features = [6])\n",
    "X_train = onehotencoder.fit_transform(X_train).toarray()\n",
    "\n",
    "X_train[:, 7] = labelencoder.fit_transform(X_train[:, 7])\n",
    "onehotencoder = OneHotEncoder(categorical_features = [7])\n",
    "X_train = onehotencoder.fit_transform(X_train).toarray()\n",
    "\n",
    "    \n",
    "np.shape(X_train)\n"
   ]
  },
  {
   "cell_type": "code",
   "execution_count": 25,
   "metadata": {},
   "outputs": [],
   "source": [
    "# Collect all R2 Scores. Initialising the models to be used\n",
    "\n",
    "R2_Scores = []\n",
    "models = ['Linear Regression' , 'Lasso Regression' , 'AdaBoost Regression' , 'Ridge Regression' , 'GradientBoosting Regression',\n",
    "          'RandomForest Regression' ,\n",
    "         'KNeighbours Regression']"
   ]
  },
  {
   "cell_type": "code",
   "execution_count": 26,
   "metadata": {},
   "outputs": [
    {
     "name": "stderr",
     "output_type": "stream",
     "text": [
      "[Parallel(n_jobs=1)]: Done   5 out of   5 | elapsed:    1.0s finished\n"
     ]
    },
    {
     "ename": "ValueError",
     "evalue": "shapes (620,9) and (885,) not aligned: 9 (dim 1) != 885 (dim 0)",
     "output_type": "error",
     "traceback": [
      "\u001b[1;31m---------------------------------------------------------------------------\u001b[0m",
      "\u001b[1;31mValueError\u001b[0m                                Traceback (most recent call last)",
      "\u001b[1;32m<ipython-input-26-e4af3e0d7cb0>\u001b[0m in \u001b[0;36m<module>\u001b[1;34m()\u001b[0m\n\u001b[0;32m      4\u001b[0m \u001b[0mclf_lr\u001b[0m\u001b[1;33m.\u001b[0m\u001b[0mfit\u001b[0m\u001b[1;33m(\u001b[0m\u001b[0mX_train\u001b[0m \u001b[1;33m,\u001b[0m \u001b[0my_train\u001b[0m\u001b[1;33m)\u001b[0m\u001b[1;33m\u001b[0m\u001b[0m\n\u001b[0;32m      5\u001b[0m \u001b[0maccuracies\u001b[0m \u001b[1;33m=\u001b[0m \u001b[0mcross_val_score\u001b[0m\u001b[1;33m(\u001b[0m\u001b[0mestimator\u001b[0m \u001b[1;33m=\u001b[0m \u001b[0mclf_lr\u001b[0m\u001b[1;33m,\u001b[0m \u001b[0mX\u001b[0m \u001b[1;33m=\u001b[0m \u001b[0mX_train\u001b[0m\u001b[1;33m,\u001b[0m \u001b[0my\u001b[0m \u001b[1;33m=\u001b[0m \u001b[0my_train\u001b[0m\u001b[1;33m,\u001b[0m \u001b[0mcv\u001b[0m \u001b[1;33m=\u001b[0m \u001b[1;36m5\u001b[0m\u001b[1;33m,\u001b[0m\u001b[0mverbose\u001b[0m \u001b[1;33m=\u001b[0m \u001b[1;36m1\u001b[0m\u001b[1;33m)\u001b[0m\u001b[1;33m\u001b[0m\u001b[0m\n\u001b[1;32m----> 6\u001b[1;33m \u001b[0my_pred\u001b[0m \u001b[1;33m=\u001b[0m \u001b[0mclf_lr\u001b[0m\u001b[1;33m.\u001b[0m\u001b[0mpredict\u001b[0m\u001b[1;33m(\u001b[0m\u001b[0mX_test\u001b[0m\u001b[1;33m)\u001b[0m\u001b[1;33m\u001b[0m\u001b[0m\n\u001b[0m\u001b[0;32m      7\u001b[0m \u001b[0mprint\u001b[0m\u001b[1;33m(\u001b[0m\u001b[1;34m''\u001b[0m\u001b[1;33m)\u001b[0m\u001b[1;33m\u001b[0m\u001b[0m\n\u001b[0;32m      8\u001b[0m \u001b[0mprint\u001b[0m\u001b[1;33m(\u001b[0m\u001b[1;34m'####### Linear Regression #######'\u001b[0m\u001b[1;33m)\u001b[0m\u001b[1;33m\u001b[0m\u001b[0m\n",
      "\u001b[1;32m~\\Anaconda3\\lib\\site-packages\\sklearn\\linear_model\\base.py\u001b[0m in \u001b[0;36mpredict\u001b[1;34m(self, X)\u001b[0m\n\u001b[0;32m    254\u001b[0m             \u001b[0mReturns\u001b[0m \u001b[0mpredicted\u001b[0m \u001b[0mvalues\u001b[0m\u001b[1;33m.\u001b[0m\u001b[1;33m\u001b[0m\u001b[0m\n\u001b[0;32m    255\u001b[0m         \"\"\"\n\u001b[1;32m--> 256\u001b[1;33m         \u001b[1;32mreturn\u001b[0m \u001b[0mself\u001b[0m\u001b[1;33m.\u001b[0m\u001b[0m_decision_function\u001b[0m\u001b[1;33m(\u001b[0m\u001b[0mX\u001b[0m\u001b[1;33m)\u001b[0m\u001b[1;33m\u001b[0m\u001b[0m\n\u001b[0m\u001b[0;32m    257\u001b[0m \u001b[1;33m\u001b[0m\u001b[0m\n\u001b[0;32m    258\u001b[0m     \u001b[0m_preprocess_data\u001b[0m \u001b[1;33m=\u001b[0m \u001b[0mstaticmethod\u001b[0m\u001b[1;33m(\u001b[0m\u001b[0m_preprocess_data\u001b[0m\u001b[1;33m)\u001b[0m\u001b[1;33m\u001b[0m\u001b[0m\n",
      "\u001b[1;32m~\\Anaconda3\\lib\\site-packages\\sklearn\\linear_model\\base.py\u001b[0m in \u001b[0;36m_decision_function\u001b[1;34m(self, X)\u001b[0m\n\u001b[0;32m    239\u001b[0m         \u001b[0mX\u001b[0m \u001b[1;33m=\u001b[0m \u001b[0mcheck_array\u001b[0m\u001b[1;33m(\u001b[0m\u001b[0mX\u001b[0m\u001b[1;33m,\u001b[0m \u001b[0maccept_sparse\u001b[0m\u001b[1;33m=\u001b[0m\u001b[1;33m[\u001b[0m\u001b[1;34m'csr'\u001b[0m\u001b[1;33m,\u001b[0m \u001b[1;34m'csc'\u001b[0m\u001b[1;33m,\u001b[0m \u001b[1;34m'coo'\u001b[0m\u001b[1;33m]\u001b[0m\u001b[1;33m)\u001b[0m\u001b[1;33m\u001b[0m\u001b[0m\n\u001b[0;32m    240\u001b[0m         return safe_sparse_dot(X, self.coef_.T,\n\u001b[1;32m--> 241\u001b[1;33m                                dense_output=True) + self.intercept_\n\u001b[0m\u001b[0;32m    242\u001b[0m \u001b[1;33m\u001b[0m\u001b[0m\n\u001b[0;32m    243\u001b[0m     \u001b[1;32mdef\u001b[0m \u001b[0mpredict\u001b[0m\u001b[1;33m(\u001b[0m\u001b[0mself\u001b[0m\u001b[1;33m,\u001b[0m \u001b[0mX\u001b[0m\u001b[1;33m)\u001b[0m\u001b[1;33m:\u001b[0m\u001b[1;33m\u001b[0m\u001b[0m\n",
      "\u001b[1;32m~\\Anaconda3\\lib\\site-packages\\sklearn\\utils\\extmath.py\u001b[0m in \u001b[0;36msafe_sparse_dot\u001b[1;34m(a, b, dense_output)\u001b[0m\n\u001b[0;32m    138\u001b[0m         \u001b[1;32mreturn\u001b[0m \u001b[0mret\u001b[0m\u001b[1;33m\u001b[0m\u001b[0m\n\u001b[0;32m    139\u001b[0m     \u001b[1;32melse\u001b[0m\u001b[1;33m:\u001b[0m\u001b[1;33m\u001b[0m\u001b[0m\n\u001b[1;32m--> 140\u001b[1;33m         \u001b[1;32mreturn\u001b[0m \u001b[0mnp\u001b[0m\u001b[1;33m.\u001b[0m\u001b[0mdot\u001b[0m\u001b[1;33m(\u001b[0m\u001b[0ma\u001b[0m\u001b[1;33m,\u001b[0m \u001b[0mb\u001b[0m\u001b[1;33m)\u001b[0m\u001b[1;33m\u001b[0m\u001b[0m\n\u001b[0m\u001b[0;32m    141\u001b[0m \u001b[1;33m\u001b[0m\u001b[0m\n\u001b[0;32m    142\u001b[0m \u001b[1;33m\u001b[0m\u001b[0m\n",
      "\u001b[1;31mValueError\u001b[0m: shapes (620,9) and (885,) not aligned: 9 (dim 1) != 885 (dim 0)"
     ]
    }
   ],
   "source": [
    "##Linear Regression\n",
    "\n",
    "clf_lr = LinearRegression()\n",
    "clf_lr.fit(X_train , y_train)\n",
    "accuracies = cross_val_score(estimator = clf_lr, X = X_train, y = y_train, cv = 5,verbose = 1)\n",
    "y_pred = clf_lr.predict(X_test)\n",
    "print('')\n",
    "print('####### Linear Regression #######')\n",
    "print('Score : %.4f' % clf_lr.score(X_test, y_test))\n",
    "print(accuracies)\n",
    "\n",
    "mse = mean_squared_error(y_test, y_pred)\n",
    "mae = mean_absolute_error(y_test, y_pred)\n",
    "rmse = mean_squared_error(y_test, y_pred)**0.5\n",
    "r2 = r2_score(y_test, y_pred)\n",
    "\n",
    "print('')\n",
    "print('MSE    : %0.2f ' % mse)\n",
    "print('MAE    : %0.2f ' % mae)\n",
    "print('RMSE   : %0.2f ' % rmse)\n",
    "print('R2     : %0.2f ' % r2)\n",
    "\n",
    "R2_Scores.append(r2)\n",
    "R2_Scores\n",
    "\n"
   ]
  },
  {
   "cell_type": "code",
   "execution_count": 31,
   "metadata": {},
   "outputs": [
    {
     "name": "stdout",
     "output_type": "stream",
     "text": [
      "\n",
      "###### Lasso Regression ######\n",
      "Score : 0.6306\n",
      "[0.62330782 0.63686877 0.57368921 0.54987179 0.59502508]\n",
      "\n",
      "MSE    : 3911188.25 \n",
      "MAE    : 1330.29 \n",
      "RMSE   : 1977.67 \n",
      "R2     : 0.63 \n"
     ]
    },
    {
     "name": "stderr",
     "output_type": "stream",
     "text": [
      "[Parallel(n_jobs=1)]: Done   5 out of   5 | elapsed:    0.0s finished\n"
     ]
    },
    {
     "data": {
      "text/plain": [
       "[0.6333626979311009, 0.6306124293338105]"
      ]
     },
     "execution_count": 31,
     "metadata": {},
     "output_type": "execute_result"
    }
   ],
   "source": [
    "###Lasso Regression\n",
    "\n",
    "clf_la = Lasso(normalize=True)\n",
    "clf_la.fit(X_train , y_train)\n",
    "accuracies = cross_val_score(estimator = clf_la, X = X_train, y = y_train, cv = 5,verbose = 1)\n",
    "y_pred = clf_la.predict(X_test)\n",
    "print('')\n",
    "print('###### Lasso Regression ######')\n",
    "print('Score : %.4f' % clf_la.score(X_test, y_test))\n",
    "print(accuracies)\n",
    "\n",
    "mse = mean_squared_error(y_test, y_pred)\n",
    "mae = mean_absolute_error(y_test, y_pred)\n",
    "rmse = mean_squared_error(y_test, y_pred)**0.5\n",
    "r2 = r2_score(y_test, y_pred)\n",
    "\n",
    "print('')\n",
    "print('MSE    : %0.2f ' % mse)\n",
    "print('MAE    : %0.2f ' % mae)\n",
    "print('RMSE   : %0.2f ' % rmse)\n",
    "print('R2     : %0.2f ' % r2)\n",
    "\n",
    "R2_Scores.append(r2)\n",
    "R2_Scores\n",
    "\n"
   ]
  },
  {
   "cell_type": "code",
   "execution_count": 32,
   "metadata": {},
   "outputs": [
    {
     "name": "stdout",
     "output_type": "stream",
     "text": [
      "\n",
      "###### AdaBoost Regression ######\n",
      "Score : 0.7465\n",
      "[0.70580799 0.57060924 0.6816492  0.66248965 0.68515461]\n",
      "\n",
      "MSE    : 2684593.94 \n",
      "MAE    : 1196.03 \n",
      "RMSE   : 1638.47 \n",
      "R2     : 0.75 \n"
     ]
    },
    {
     "name": "stderr",
     "output_type": "stream",
     "text": [
      "[Parallel(n_jobs=1)]: Done   5 out of   5 | elapsed:    0.5s finished\n"
     ]
    },
    {
     "data": {
      "text/plain": [
       "[0.6333626979311009, 0.6306124293338105, 0.7464566851599238]"
      ]
     },
     "execution_count": 32,
     "metadata": {},
     "output_type": "execute_result"
    }
   ],
   "source": [
    "###Ada Boost Regression\n",
    "\n",
    "clf_ar = AdaBoostRegressor(n_estimators=1000)\n",
    "clf_ar.fit(X_train , y_train)\n",
    "accuracies = cross_val_score(estimator = clf_ar, X = X_train, y = y_train, cv = 5,verbose = 1)\n",
    "y_pred = clf_ar.predict(X_test)\n",
    "print('')\n",
    "print('###### AdaBoost Regression ######')\n",
    "print('Score : %.4f' % clf_ar.score(X_test, y_test))\n",
    "print(accuracies)\n",
    "\n",
    "mse = mean_squared_error(y_test, y_pred)\n",
    "mae = mean_absolute_error(y_test, y_pred)\n",
    "rmse = mean_squared_error(y_test, y_pred)**0.5\n",
    "r2 = r2_score(y_test, y_pred)\n",
    "\n",
    "print('')\n",
    "print('MSE    : %0.2f ' % mse)\n",
    "print('MAE    : %0.2f ' % mae)\n",
    "print('RMSE   : %0.2f ' % rmse)\n",
    "print('R2     : %0.2f ' % r2)\n",
    "\n",
    "R2_Scores.append(r2)\n",
    "R2_Scores\n",
    "\n"
   ]
  },
  {
   "cell_type": "code",
   "execution_count": 33,
   "metadata": {},
   "outputs": [
    {
     "name": "stdout",
     "output_type": "stream",
     "text": [
      "\n",
      "###### Ridge Regression ######\n",
      "Score : 0.5051\n",
      "[0.49924053 0.50896559 0.4796716  0.42739998 0.51211915]\n",
      "\n",
      "MSE    : 5239670.04 \n",
      "MAE    : 1446.03 \n",
      "RMSE   : 2289.03 \n",
      "R2     : 0.51 \n"
     ]
    },
    {
     "name": "stderr",
     "output_type": "stream",
     "text": [
      "[Parallel(n_jobs=1)]: Done   5 out of   5 | elapsed:    0.0s finished\n"
     ]
    },
    {
     "data": {
      "text/plain": [
       "[0.6333626979311009,\n",
       " 0.6306124293338105,\n",
       " 0.7464566851599238,\n",
       " 0.5051455308792512]"
      ]
     },
     "execution_count": 33,
     "metadata": {},
     "output_type": "execute_result"
    }
   ],
   "source": [
    "###Ridge Regression\n",
    "\n",
    "clf_rr = Ridge(normalize=True)\n",
    "clf_rr.fit(X_train , y_train)\n",
    "accuracies = cross_val_score(estimator = clf_rr, X = X_train, y = y_train, cv = 5,verbose = 1)\n",
    "y_pred = clf_rr.predict(X_test)\n",
    "print('')\n",
    "print('###### Ridge Regression ######')\n",
    "print('Score : %.4f' % clf_rr.score(X_test, y_test))\n",
    "print(accuracies)\n",
    "\n",
    "mse = mean_squared_error(y_test, y_pred)\n",
    "mae = mean_absolute_error(y_test, y_pred)\n",
    "rmse = mean_squared_error(y_test, y_pred)**0.5\n",
    "r2 = r2_score(y_test, y_pred)\n",
    "\n",
    "print('')\n",
    "print('MSE    : %0.2f ' % mse)\n",
    "print('MAE    : %0.2f ' % mae)\n",
    "print('RMSE   : %0.2f ' % rmse)\n",
    "print('R2     : %0.2f ' % r2)\n",
    "\n",
    "R2_Scores.append(r2)\n",
    "R2_Scores\n",
    "\n"
   ]
  },
  {
   "cell_type": "code",
   "execution_count": 34,
   "metadata": {},
   "outputs": [
    {
     "name": "stdout",
     "output_type": "stream",
     "text": [
      "      Iter       Train Loss   Remaining Time \n",
      "         1    10196137.7440            0.10s\n",
      "         2     9474660.4154            0.10s\n",
      "         3     8883459.6199            0.06s\n",
      "         4     8390495.0240            0.07s\n",
      "         5     7987172.1820            0.09s\n",
      "         6     7649674.3394            0.08s\n",
      "         7     7355060.4618            0.08s\n",
      "         8     7116423.2210            0.08s\n",
      "         9     6908434.2278            0.08s\n",
      "        10     6708559.9073            0.08s\n",
      "        20     5389690.0201            0.05s\n",
      "        30     4739860.0633            0.05s\n",
      "        40     4353783.3465            0.04s\n",
      "        50     4102064.2915            0.04s\n",
      "        60     3927911.0432            0.03s\n",
      "        70     3805031.7533            0.02s\n",
      "        80     3714334.7125            0.01s\n",
      "        90     3642788.5092            0.01s\n",
      "       100     3583316.4974            0.00s\n",
      "      Iter       Train Loss   Remaining Time \n",
      "         1    10141097.3733            0.00s\n",
      "         2     9454234.7159            0.05s\n",
      "         3     8881717.6488            0.06s\n",
      "         4     8413022.1933            0.05s\n",
      "         5     8010904.8594            0.06s\n",
      "         6     7679649.9096            0.06s\n",
      "         7     7394642.3660            0.05s\n",
      "         8     7157882.2148            0.06s\n",
      "         9     6957362.1709            0.06s\n",
      "        10     6763259.4566            0.05s\n",
      "        20     5434646.3183            0.04s\n",
      "        30     4752756.3340            0.03s\n",
      "        40     4338657.9888            0.03s\n",
      "        50     4073308.9117            0.02s\n",
      "        60     3894578.9779            0.02s\n",
      "        70     3768462.0983            0.01s\n",
      "        80     3677863.0606            0.01s\n",
      "        90     3606304.0467            0.00s\n",
      "       100     3545476.4265            0.00s\n",
      "      Iter       Train Loss   Remaining Time \n",
      "         1    10526623.3646            0.00s\n",
      "         2     9783904.8627            0.00s\n",
      "         3     9180076.4491            0.03s\n",
      "         4     8673455.1245            0.02s\n",
      "         5     8259443.6381            0.04s\n",
      "         6     7901099.9895            0.05s\n",
      "         7     7609508.3791            0.05s\n",
      "         8     7362854.7792            0.06s\n",
      "         9     7149621.5367            0.05s\n",
      "        10     6940946.1930            0.05s\n",
      "        20     5579070.6347            0.04s\n",
      "        30     4884308.6711            0.03s\n",
      "        40     4475921.5598            0.03s\n",
      "        50     4216448.4561            0.02s\n",
      "        60     4040636.0945            0.02s\n",
      "        70     3916457.8917            0.01s\n",
      "        80     3824458.7660            0.01s\n",
      "        90     3751356.4749            0.00s\n",
      "       100     3691355.4107            0.00s\n",
      "      Iter       Train Loss   Remaining Time \n",
      "         1    10677893.5567            0.10s\n",
      "         2     9938383.6857            0.05s\n",
      "         3     9326789.0807            0.06s\n",
      "         4     8821566.5433            0.05s\n",
      "         5     8403691.0937            0.04s\n",
      "         6     8058533.4432            0.05s\n",
      "         7     7757494.9852            0.04s\n",
      "         8     7513653.8343            0.05s\n",
      "         9     7288186.0953            0.04s\n",
      "        10     7073515.5883            0.04s\n",
      "        20     5639676.4194            0.04s\n",
      "        30     4934947.2693            0.03s\n",
      "        40     4520661.4206            0.03s\n",
      "        50     4252918.1761            0.02s\n",
      "        60     4068784.5353            0.02s\n",
      "        70     3940002.8844            0.01s\n",
      "        80     3846923.2089            0.01s\n",
      "        90     3774036.5040            0.00s\n",
      "       100     3714619.0199            0.00s\n",
      "      Iter       Train Loss   Remaining Time \n",
      "         1     9204821.8600            0.10s\n",
      "         2     8523721.4158            0.05s\n",
      "         3     7961048.2720            0.07s\n",
      "         4     7495766.4012            0.07s\n",
      "         5     7111418.7281            0.08s\n",
      "         6     6790984.2081            0.06s\n",
      "         7     6513450.5050            0.08s\n",
      "         8     6287770.9239            0.07s\n",
      "         9     6091425.8940            0.07s\n",
      "        10     5912124.2478            0.06s\n",
      "        20     4719686.1518            0.04s\n",
      "        30     4145997.0912            0.04s\n",
      "        40     3814786.3182            0.03s\n",
      "        50     3608681.1841            0.02s\n",
      "        60     3468047.9650            0.02s\n",
      "        70     3366856.5114            0.01s\n",
      "        80     3288762.6306            0.01s\n",
      "        90     3223864.8291            0.00s\n",
      "       100     3168882.4730            0.00s\n",
      "      Iter       Train Loss   Remaining Time \n",
      "         1    10421215.3320            0.10s\n",
      "         2     9667406.6452            0.10s\n",
      "         3     9056517.1273            0.06s\n",
      "         4     8540441.6691            0.07s\n",
      "         5     8122420.5480            0.08s\n",
      "         6     7770310.8612            0.06s\n",
      "         7     7479287.0042            0.08s\n",
      "         8     7229957.0844            0.07s\n",
      "         9     7021317.7828            0.07s\n",
      "        10     6825466.6563            0.07s\n",
      "        20     5515645.0306            0.04s\n",
      "        30     4850970.9146            0.03s\n",
      "        40     4450873.6279            0.03s\n",
      "        50     4187025.0432            0.02s\n",
      "        60     4001307.5887            0.02s\n",
      "        70     3871171.8032            0.01s\n",
      "        80     3773188.5237            0.01s\n",
      "        90     3692713.5160            0.00s\n",
      "       100     3625195.7869            0.00s\n",
      "\n",
      "###### Gradient Boosting Regression #######\n",
      "Score : 0.6506\n",
      "[0.66470129 0.67211097 0.66600746 0.59129269 0.66462589]\n",
      "\n",
      "MSE    : 3699723.91 \n",
      "MAE    : 1220.76 \n",
      "RMSE   : 1923.47 \n",
      "R2     : 0.65 \n"
     ]
    },
    {
     "name": "stderr",
     "output_type": "stream",
     "text": [
      "[Parallel(n_jobs=1)]: Done   5 out of   5 | elapsed:    0.1s finished\n"
     ]
    },
    {
     "data": {
      "text/plain": [
       "[0.6333626979311009,\n",
       " 0.6306124293338105,\n",
       " 0.7464566851599238,\n",
       " 0.5051455308792512,\n",
       " 0.6505839303349221]"
      ]
     },
     "execution_count": 34,
     "metadata": {},
     "output_type": "execute_result"
    }
   ],
   "source": [
    "###Gradient Boost Regression\n",
    "\n",
    "clf_gbr = GradientBoostingRegressor(n_estimators=100, learning_rate=0.1,max_depth=1, random_state=0, loss='ls',verbose = 1)\n",
    "clf_gbr.fit(X_train , y_train)\n",
    "accuracies = cross_val_score(estimator = clf_gbr, X = X_train, y = y_train, cv = 5,verbose = 1)\n",
    "y_pred = clf_gbr.predict(X_test)\n",
    "print('')\n",
    "print('###### Gradient Boosting Regression #######')\n",
    "print('Score : %.4f' % clf_gbr.score(X_test, y_test))\n",
    "print(accuracies)\n",
    "\n",
    "mse = mean_squared_error(y_test, y_pred)\n",
    "mae = mean_absolute_error(y_test, y_pred)\n",
    "rmse = mean_squared_error(y_test, y_pred)**0.5\n",
    "r2 = r2_score(y_test, y_pred)\n",
    "\n",
    "print('')\n",
    "print('MSE    : %0.2f ' % mse)\n",
    "print('MAE    : %0.2f ' % mae)\n",
    "print('RMSE   : %0.2f ' % rmse)\n",
    "print('R2     : %0.2f ' % r2)\n",
    "\n",
    "R2_Scores.append(r2)\n",
    "R2_Scores\n",
    "\n"
   ]
  },
  {
   "cell_type": "code",
   "execution_count": 35,
   "metadata": {},
   "outputs": [
    {
     "name": "stderr",
     "output_type": "stream",
     "text": [
      "[Parallel(n_jobs=1)]: Done   5 out of   5 | elapsed:    0.3s finished\n"
     ]
    },
    {
     "name": "stdout",
     "output_type": "stream",
     "text": [
      "\n",
      "###### Random Forest ######\n",
      "Score : 0.8164\n",
      "[0.73690185 0.75638376 0.75394723 0.7423466  0.75608744]\n",
      "\n",
      "MSE    : 1943604.60 \n",
      "MAE    : 922.28 \n",
      "RMSE   : 1394.13 \n",
      "R2     : 0.82 \n",
      "Score : 0.8430\n",
      "R2     : 0.84 \n"
     ]
    },
    {
     "data": {
      "text/plain": [
       "[0.6333626979311009,\n",
       " 0.6306124293338105,\n",
       " 0.7464566851599238,\n",
       " 0.5051455308792512,\n",
       " 0.6505839303349221,\n",
       " 0.8429908078248844]"
      ]
     },
     "execution_count": 35,
     "metadata": {},
     "output_type": "execute_result"
    }
   ],
   "source": [
    "####Random Forest Regression\n",
    "\n",
    "clf_rf = RandomForestRegressor()\n",
    "clf_rf.fit(X_train , y_train)\n",
    "accuracies = cross_val_score(estimator = clf_rf, X = X_train, y = y_train, cv = 5,verbose = 1)\n",
    "y_pred = clf_rf.predict(X_test)\n",
    "print('')\n",
    "print('###### Random Forest ######')\n",
    "print('Score : %.4f' % clf_rf.score(X_test, y_test))\n",
    "print(accuracies)\n",
    "\n",
    "mse = mean_squared_error(y_test, y_pred)\n",
    "mae = mean_absolute_error(y_test, y_pred)\n",
    "rmse = mean_squared_error(y_test, y_pred)**0.5\n",
    "r2 = r2_score(y_test, y_pred)\n",
    "\n",
    "print('')\n",
    "print('MSE    : %0.2f ' % mse)\n",
    "print('MAE    : %0.2f ' % mae)\n",
    "print('RMSE   : %0.2f ' % rmse)\n",
    "print('R2     : %0.2f ' % r2)\n",
    "\n",
    "no_of_test=[100]\n",
    "params_dict={'n_estimators':no_of_test,'n_jobs':[-1],'max_features':[\"auto\",'sqrt','log2']}\n",
    "clf_rf=GridSearchCV(estimator=RandomForestRegressor(),param_grid=params_dict,scoring='r2')\n",
    "clf_rf.fit(X_train,y_train)\n",
    "print('Score : %.4f' % clf_rf.score(X_test, y_test))\n",
    "pred=clf_rf.predict(X_test)\n",
    "r2 = r2_score(y_test, pred)\n",
    "print('R2     : %0.2f ' % r2)\n",
    "R2_Scores.append(r2)\n",
    "R2_Scores\n"
   ]
  },
  {
   "cell_type": "code",
   "execution_count": 36,
   "metadata": {},
   "outputs": [
    {
     "name": "stderr",
     "output_type": "stream",
     "text": [
      "[Parallel(n_jobs=1)]: Done   5 out of   5 | elapsed:    0.0s finished\n"
     ]
    },
    {
     "name": "stdout",
     "output_type": "stream",
     "text": [
      "\n",
      "###### KNeighbours Regression ######\n",
      "Score : 0.7584\n",
      "[0.76788476 0.65985601 0.7103934  0.62893669 0.61782954]\n",
      "\n",
      "MSE    : 2557952.78 \n",
      "MAE    : 1044.85 \n",
      "RMSE   : 1599.36 \n",
      "R2     : 0.76 \n",
      "Score : 0.7584\n",
      "R2     : 0.76 \n"
     ]
    },
    {
     "data": {
      "text/plain": [
       "[0.6333626979311009,\n",
       " 0.6306124293338105,\n",
       " 0.7464566851599238,\n",
       " 0.5051455308792512,\n",
       " 0.6505839303349221,\n",
       " 0.8429908078248844,\n",
       " 0.758417160383905]"
      ]
     },
     "execution_count": 36,
     "metadata": {},
     "output_type": "execute_result"
    }
   ],
   "source": [
    "###Kneighbor Regression\n",
    "\n",
    "clf_knn = KNeighborsRegressor()\n",
    "clf_knn.fit(X_train , y_train)\n",
    "accuracies = cross_val_score(estimator = clf_knn, X = X_train, y = y_train, cv = 5,verbose = 1)\n",
    "y_pred = clf_knn.predict(X_test)\n",
    "print('')\n",
    "print('###### KNeighbours Regression ######')\n",
    "print('Score : %.4f' % clf_knn.score(X_test, y_test))\n",
    "print(accuracies)\n",
    "\n",
    "mse = mean_squared_error(y_test, y_pred)\n",
    "mae = mean_absolute_error(y_test, y_pred)\n",
    "rmse = mean_squared_error(y_test, y_pred)**0.5\n",
    "r2 = r2_score(y_test, y_pred)\n",
    "\n",
    "print('')\n",
    "print('MSE    : %0.2f ' % mse)\n",
    "print('MAE    : %0.2f ' % mae)\n",
    "print('RMSE   : %0.2f ' % rmse)\n",
    "print('R2     : %0.2f ' % r2)\n",
    "\n",
    "n_neighbors=[]\n",
    "for i in range (0,50,5):\n",
    "    if(i!=0):\n",
    "        n_neighbors.append(i)\n",
    "params_dict={'n_neighbors':n_neighbors,'n_jobs':[-1]}\n",
    "clf_knn=GridSearchCV(estimator=KNeighborsRegressor(),param_grid=params_dict,scoring='r2')\n",
    "clf_knn.fit(X_train,y_train)\n",
    "print('Score : %.4f' % clf_knn.score(X_test, y_test))\n",
    "pred=clf_knn.predict(X_test)\n",
    "r2 = r2_score(y_test, pred)\n",
    "print('R2     : %0.2f ' % r2)\n",
    "R2_Scores.append(r2)\n",
    "R2_Scores\n",
    "\n"
   ]
  },
  {
   "cell_type": "code",
   "execution_count": 37,
   "metadata": {},
   "outputs": [
    {
     "data": {
      "text/plain": [
       "<seaborn.axisgrid.FacetGrid at 0x211e8cad160>"
      ]
     },
     "execution_count": 37,
     "metadata": {},
     "output_type": "execute_result"
    },
    {
     "data": {
      "image/png": "[encoded data removed]",
      "text/plain": [
       "<Figure size 1728x432 with 1 Axes>"
      ]
     },
     "metadata": {},
     "output_type": "display_data"
    }
   ],
   "source": [
    "compare = pd.DataFrame({'Algorithms' : models , 'R2-Scores' : R2_Scores})\n",
    "compare.sort_values(by='R2-Scores' ,ascending=False)\n",
    "sns.factorplot(x='Algorithms', y='R2-Scores' , data=compare, size=6 , aspect=4)"
   ]
  },
  {
   "cell_type": "code",
   "execution_count": 38,
   "metadata": {},
   "outputs": [
    {
     "data": {
      "text/html": [
       "<div>\n",
       "<style scoped>\n",
       "    .dataframe tbody tr th:only-of-type {\n",
       "        vertical-align: middle;\n",
       "    }\n",
       "\n",
       "    .dataframe tbody tr th {\n",
       "        vertical-align: top;\n",
       "    }\n",
       "\n",
       "    .dataframe thead th {\n",
       "        text-align: right;\n",
       "    }\n",
       "</style>\n",
       "<table border=\"1\" class=\"dataframe\">\n",
       "  <thead>\n",
       "    <tr style=\"text-align: right;\">\n",
       "      <th></th>\n",
       "      <th>ID</th>\n",
       "      <th>Feature_1</th>\n",
       "      <th>Feature_2</th>\n",
       "      <th>Feature_3</th>\n",
       "      <th>Feature_4</th>\n",
       "      <th>Feature_5</th>\n",
       "      <th>Feature_6</th>\n",
       "      <th>Feature_7</th>\n",
       "      <th>Feature_8</th>\n",
       "      <th>Feature_9</th>\n",
       "      <th>Feature_10</th>\n",
       "    </tr>\n",
       "  </thead>\n",
       "  <tbody>\n",
       "    <tr>\n",
       "      <th>0</th>\n",
       "      <td>4024</td>\n",
       "      <td>35378.2</td>\n",
       "      <td>11118.6</td>\n",
       "      <td>4208</td>\n",
       "      <td>1595</td>\n",
       "      <td>17</td>\n",
       "      <td>20</td>\n",
       "      <td>95</td>\n",
       "      <td>6</td>\n",
       "      <td>0</td>\n",
       "      <td>NaN</td>\n",
       "    </tr>\n",
       "    <tr>\n",
       "      <th>1</th>\n",
       "      <td>4025</td>\n",
       "      <td>10115.0</td>\n",
       "      <td>13584.6</td>\n",
       "      <td>169255</td>\n",
       "      <td>3123</td>\n",
       "      <td>7</td>\n",
       "      <td>1</td>\n",
       "      <td>60</td>\n",
       "      <td>6</td>\n",
       "      <td>12</td>\n",
       "      <td>NaN</td>\n",
       "    </tr>\n",
       "    <tr>\n",
       "      <th>2</th>\n",
       "      <td>4026</td>\n",
       "      <td>5771.5</td>\n",
       "      <td>3537.9</td>\n",
       "      <td>122694</td>\n",
       "      <td>1896</td>\n",
       "      <td>7</td>\n",
       "      <td>32</td>\n",
       "      <td>347</td>\n",
       "      <td>3</td>\n",
       "      <td>13</td>\n",
       "      <td>NaN</td>\n",
       "    </tr>\n",
       "    <tr>\n",
       "      <th>3</th>\n",
       "      <td>4027</td>\n",
       "      <td>7378.0</td>\n",
       "      <td>14100.0</td>\n",
       "      <td>154432</td>\n",
       "      <td>1796</td>\n",
       "      <td>17</td>\n",
       "      <td>20</td>\n",
       "      <td>96</td>\n",
       "      <td>6</td>\n",
       "      <td>13</td>\n",
       "      <td>NaN</td>\n",
       "    </tr>\n",
       "    <tr>\n",
       "      <th>4</th>\n",
       "      <td>4028</td>\n",
       "      <td>3094.0</td>\n",
       "      <td>2982.8</td>\n",
       "      <td>89137</td>\n",
       "      <td>1390</td>\n",
       "      <td>0</td>\n",
       "      <td>27</td>\n",
       "      <td>203</td>\n",
       "      <td>6</td>\n",
       "      <td>13</td>\n",
       "      <td>NaN</td>\n",
       "    </tr>\n",
       "  </tbody>\n",
       "</table>\n",
       "</div>"
      ],
      "text/plain": [
       "     ID  Feature_1  Feature_2  Feature_3  Feature_4  Feature_5  Feature_6  \\\n",
       "0  4024    35378.2    11118.6       4208       1595         17         20   \n",
       "1  4025    10115.0    13584.6     169255       3123          7          1   \n",
       "2  4026     5771.5     3537.9     122694       1896          7         32   \n",
       "3  4027     7378.0    14100.0     154432       1796         17         20   \n",
       "4  4028     3094.0     2982.8      89137       1390          0         27   \n",
       "\n",
       "   Feature_7  Feature_8  Feature_9  Feature_10  \n",
       "0         95          6          0         NaN  \n",
       "1         60          6         12         NaN  \n",
       "2        347          3         13         NaN  \n",
       "3         96          6         13         NaN  \n",
       "4        203          6         13         NaN  "
      ]
     },
     "execution_count": 38,
     "metadata": {},
     "output_type": "execute_result"
    }
   ],
   "source": [
    "#importing the to-predict dataset\n",
    "to_pred_df=pd.read_csv('Copart_to_predict.csv')\n",
    "\n",
    "to_pred_df.head()"
   ]
  },
  {
   "cell_type": "code",
   "execution_count": 39,
   "metadata": {},
   "outputs": [
    {
     "data": {
      "text/plain": [
       "array([[4.024000e+03, 3.537820e+04, 1.111860e+04, ..., 2.000000e+01,\n",
       "        9.500000e+01, 6.000000e+00],\n",
       "       [4.025000e+03, 1.011500e+04, 1.358460e+04, ..., 1.000000e+00,\n",
       "        6.000000e+01, 6.000000e+00],\n",
       "       [4.026000e+03, 5.771500e+03, 3.537900e+03, ..., 3.200000e+01,\n",
       "        3.470000e+02, 3.000000e+00],\n",
       "       ...,\n",
       "       [4.448000e+03, 1.799994e+03, 2.305000e+03, ..., 2.200000e+01,\n",
       "        3.260000e+02, 6.000000e+00],\n",
       "       [4.449000e+03, 6.545000e+03, 5.673500e+03, ..., 3.200000e+01,\n",
       "        2.780000e+02, 3.000000e+00],\n",
       "       [4.450000e+03, 2.046800e+04, 2.650000e+04, ..., 2.000000e+01,\n",
       "        4.800000e+01, 6.000000e+00]])"
      ]
     },
     "execution_count": 39,
     "metadata": {},
     "output_type": "execute_result"
    }
   ],
   "source": [
    "X_to_pred=to_pred_df.iloc[:, 0:9].values\n",
    "X_to_pred\n"
   ]
  },
  {
   "cell_type": "code",
   "execution_count": 40,
   "metadata": {},
   "outputs": [
    {
     "name": "stdout",
     "output_type": "stream",
     "text": [
      "7494\n",
      "7486\n",
      "7494\n",
      "7494\n",
      "7651\n",
      "7486\n",
      "7494\n",
      "7494\n",
      "7494\n",
      "7494\n",
      "7494\n",
      "7494\n",
      "7494\n",
      "7494\n",
      "7494\n",
      "7494\n",
      "7486\n",
      "7494\n",
      "7494\n",
      "7494\n",
      "7494\n",
      "7494\n",
      "7494\n",
      "7494\n",
      "7651\n",
      "7494\n",
      "7494\n",
      "7494\n",
      "7494\n",
      "7494\n",
      "7651\n",
      "7494\n",
      "7494\n",
      "7494\n",
      "7494\n",
      "7486\n",
      "7642\n",
      "7494\n",
      "7494\n",
      "7651\n",
      "7494\n",
      "7486\n",
      "7494\n",
      "7642\n",
      "7494\n",
      "7494\n",
      "7494\n",
      "7494\n",
      "7494\n",
      "7494\n",
      "7494\n",
      "7494\n",
      "7494\n",
      "7494\n",
      "7486\n",
      "7494\n",
      "7486\n",
      "7494\n",
      "7494\n",
      "7651\n",
      "7494\n",
      "7486\n",
      "7494\n",
      "7494\n",
      "7494\n",
      "7494\n",
      "7486\n",
      "7494\n",
      "7494\n",
      "7494\n",
      "7494\n",
      "7494\n",
      "7486\n",
      "7486\n",
      "7494\n",
      "7494\n",
      "7494\n",
      "7494\n",
      "7494\n",
      "7494\n",
      "7494\n",
      "7494\n",
      "7494\n",
      "7494\n",
      "7494\n",
      "7494\n",
      "7486\n",
      "7486\n",
      "7494\n",
      "7494\n",
      "7494\n",
      "7651\n",
      "7494\n",
      "7494\n",
      "7494\n",
      "7494\n",
      "7494\n",
      "7494\n",
      "7486\n",
      "7494\n",
      "7486\n",
      "7494\n",
      "7494\n",
      "7494\n",
      "7494\n",
      "7494\n",
      "7494\n",
      "7494\n",
      "7486\n",
      "7494\n",
      "7494\n",
      "7494\n",
      "7558\n",
      "7494\n",
      "7494\n",
      "7486\n",
      "7494\n",
      "7494\n",
      "7494\n",
      "7494\n",
      "7486\n",
      "7494\n",
      "7486\n",
      "7494\n",
      "7494\n",
      "7494\n",
      "7486\n",
      "7494\n",
      "7486\n",
      "7651\n",
      "7494\n",
      "7494\n",
      "7494\n",
      "7486\n",
      "7494\n",
      "7486\n",
      "7494\n",
      "7494\n",
      "7486\n",
      "7494\n",
      "7494\n",
      "7494\n",
      "7494\n",
      "7494\n",
      "7494\n",
      "7494\n",
      "7651\n",
      "7494\n",
      "7494\n",
      "7494\n",
      "7494\n",
      "7494\n",
      "7494\n",
      "7494\n",
      "7494\n",
      "7494\n",
      "7494\n",
      "7494\n",
      "7494\n",
      "7494\n",
      "7494\n",
      "7486\n",
      "7494\n",
      "7494\n",
      "7494\n",
      "7494\n",
      "7494\n",
      "7494\n",
      "7494\n",
      "7494\n",
      "7494\n",
      "7494\n",
      "7494\n",
      "7494\n",
      "7494\n",
      "7494\n",
      "7642\n",
      "7494\n",
      "7494\n",
      "7494\n",
      "7494\n",
      "7494\n",
      "7494\n",
      "7486\n",
      "7486\n",
      "7486\n",
      "7486\n",
      "7494\n",
      "7494\n",
      "7494\n",
      "7486\n",
      "7494\n",
      "7486\n",
      "7486\n",
      "7494\n",
      "7494\n",
      "7486\n",
      "7651\n",
      "7651\n",
      "7494\n",
      "7651\n",
      "7494\n",
      "7494\n",
      "7486\n",
      "7494\n",
      "7494\n",
      "7494\n",
      "7486\n",
      "7494\n",
      "7494\n",
      "7494\n",
      "7494\n",
      "7494\n",
      "7651\n",
      "7494\n",
      "7551\n",
      "7651\n",
      "7494\n",
      "7494\n",
      "7494\n",
      "7494\n",
      "7494\n",
      "7494\n",
      "7494\n",
      "7494\n",
      "7494\n",
      "7494\n",
      "7494\n",
      "7494\n",
      "7494\n",
      "7494\n",
      "7494\n",
      "7494\n",
      "7486\n",
      "7494\n",
      "7494\n",
      "7494\n",
      "7494\n",
      "7494\n",
      "7486\n",
      "7494\n",
      "7494\n",
      "7494\n",
      "7494\n",
      "7486\n",
      "7651\n",
      "7494\n",
      "7494\n",
      "7494\n",
      "7494\n",
      "7494\n",
      "7494\n",
      "7494\n",
      "7494\n",
      "7494\n",
      "7486\n",
      "7651\n",
      "7494\n",
      "7494\n",
      "7494\n",
      "7494\n",
      "7494\n",
      "7494\n",
      "7494\n",
      "7494\n",
      "7494\n",
      "7494\n",
      "7651\n",
      "7494\n",
      "7494\n",
      "7486\n",
      "7494\n",
      "7494\n",
      "7494\n",
      "7486\n",
      "7486\n",
      "7494\n",
      "7494\n",
      "7494\n",
      "7494\n",
      "7494\n",
      "7494\n",
      "7494\n",
      "7494\n",
      "7494\n",
      "7494\n",
      "7494\n",
      "7494\n",
      "7494\n",
      "7494\n",
      "7494\n",
      "7494\n",
      "7494\n",
      "7494\n",
      "7494\n",
      "7651\n",
      "7494\n",
      "7494\n",
      "7651\n",
      "7494\n",
      "7651\n",
      "7494\n",
      "7494\n",
      "7494\n",
      "7494\n",
      "7494\n",
      "7494\n",
      "7494\n",
      "7494\n",
      "7486\n",
      "7494\n",
      "7494\n",
      "7494\n",
      "7486\n",
      "7494\n",
      "7494\n",
      "7486\n",
      "7494\n",
      "7494\n",
      "7494\n",
      "7494\n",
      "7494\n",
      "7494\n",
      "7494\n",
      "7494\n",
      "7494\n",
      "7494\n",
      "7494\n",
      "7494\n",
      "7494\n",
      "7494\n",
      "7494\n",
      "7494\n",
      "7486\n",
      "7494\n",
      "7494\n",
      "7494\n",
      "7494\n",
      "7494\n",
      "7494\n",
      "7494\n",
      "7494\n",
      "7494\n",
      "7494\n",
      "7494\n",
      "7494\n",
      "7494\n",
      "7494\n",
      "7486\n",
      "7494\n",
      "7494\n",
      "7494\n",
      "7494\n",
      "7486\n",
      "7494\n",
      "7494\n",
      "7494\n",
      "7494\n",
      "7494\n",
      "7494\n",
      "7494\n",
      "7494\n",
      "7486\n",
      "7494\n",
      "7494\n",
      "7494\n",
      "7494\n",
      "7494\n",
      "7494\n",
      "7486\n",
      "7494\n",
      "7494\n",
      "7494\n",
      "7486\n",
      "7494\n",
      "7494\n",
      "7494\n",
      "7494\n",
      "7494\n",
      "7494\n",
      "7494\n",
      "7494\n"
     ]
    }
   ],
   "source": [
    "####Random Forest Regression\n",
    "\n",
    "y_to_pred = clf_rf.predict(X_to_pred)\n",
    "\n",
    "# y_pred\n",
    "\n",
    "for x in y_to_pred:\n",
    "    print(int(x))\n",
    "\n",
    "\n"
   ]
  },
  {
   "cell_type": "code",
   "execution_count": 41,
   "metadata": {},
   "outputs": [
    {
     "name": "stdout",
     "output_type": "stream",
     "text": [
      "1595\n"
     ]
    },
    {
     "name": "stderr",
     "output_type": "stream",
     "text": [
      "C:\\Users\\abhin\\Anaconda3\\lib\\site-packages\\ipykernel_launcher.py:4: DeprecationWarning: Call to deprecated function get_sheet_by_name (Use wb[sheetname]).\n",
      "  after removing the cwd from sys.path.\n"
     ]
    }
   ],
   "source": [
    "#writing the predicted values to excel\n",
    "import openpyxl\n",
    "wb=openpyxl.load_workbook(\"Copart_to_predict.xlsx\")\n",
    "ws=wb.get_sheet_by_name(\"Sheet1\")\n",
    "print(ws.cell(row=2,column=5).value)\n",
    "row_no=2\n",
    "col_no=11\n",
    "for y in y_to_pred:\n",
    "        ws.cell(row=row_no,column=col_no).value=y\n",
    "        row_no+=1\n",
    "\n",
    "wb.save(\"Copart_to_predict.xlsx\")"
   ]
  },
  {
   "cell_type": "code",
   "execution_count": null,
   "metadata": {},
   "outputs": [],
   "source": []
  }
 ],
 "metadata": {
  "kernelspec": {
   "display_name": "Python 3",
   "language": "python",
   "name": "python3"
  },
  "language_info": {
   "codemirror_mode": {
    "name": "ipython",
    "version": 3
   },
   "file_extension": ".py",
   "mimetype": "text/x-python",
   "name": "python",
   "nbconvert_exporter": "python",
   "pygments_lexer": "ipython3",
   "version": "3.6.5"
  }
 },
 "nbformat": 4,
 "nbformat_minor": 2
}
